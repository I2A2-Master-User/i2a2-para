{
 "cells": [
  {
   "cell_type": "markdown",
   "metadata": {},
   "source": [
    "[<center><img src=\"./images/logo_fly.png\">](https://www.flyeducacao.org/)\n",
    "# Mulheres in Tech</center>\n",
    "<hr>  \n",
    "Rev 1"
   ]
  },
  {
   "cell_type": "markdown",
   "metadata": {
    "slideshow": {
     "slide_type": "slide"
    }
   },
   "source": [
    "# Módulo 1 "
   ]
  },
  {
   "cell_type": "markdown",
   "metadata": {},
   "source": [
    "## Aula 5: Redes Generativas (05/20)  \n",
    "\n",
    "**Objetivos**: Apresentar os conceitos relacionados à redes generativas e entender como este tipo de tecnologia pode nos auxiliar no dia a dia."
   ]
  },
  {
   "cell_type": "markdown",
   "metadata": {},
   "source": [
    "Este material o auxiliará nas sessões de autoestudo, contudo, fique à vontade para consultar outras fontes de informações, mas nunca deixe de anotá-las para uso posterior."
   ]
  },
  {
   "cell_type": "markdown",
   "metadata": {},
   "source": [
    "# Redes Generativas... Este bicho morde?  \n",
    "\n",
    "<img src=\"./images/redes_generativas.png\" width=\"400\">  \n",
    "\n",
    "Fonte: MidJourney"
   ]
  },
  {
   "cell_type": "markdown",
   "metadata": {},
   "source": [
    "As redes generativas são uma tecnologia relativamente recente dentro do mundo da inteligência artificial.  \n",
    "\n",
    "Contudo, existe uma certa confusão gerada pois existe um conjuto de redes que se prestam a geração de imagens e a base tecnológica destas são as Redes Generativas Adversárias (GANs). Mas também temos as redes generativas de texto, cuja base tecnológica sáo os \"mecanismos de atenção\" e \"transformers\"."
   ]
  },
  {
   "cell_type": "markdown",
   "metadata": {},
   "source": [
    "## GANs\n",
    "\n",
    "Em 12 de dezembro de 2018, a equipe de pesquisadores da NVidia, apresentou um novo algorítimo de inteligência artificial chamado [StyleGAN](https://arxiv.org/abs/1812.04948). Esta rede era um modelo de Deep Learning que se utilizava do conceito de redes generativas adversárias (GAN) para gerar imagens ultra realistas de pessoas, carros e casas.  \n",
    "\n",
    "<img src=\"./images/StyleGAN.png\" width=\"600\">\n",
    "\n",
    "Neste exemplo, vemos o rosto feminino na esquerda sendo mesclado com as características da fotos da parte superior. O resultado são rostos de pessoas que nunca existiram. Impressionante, não?\n",
    "\n",
    "Mas isto foi apenas o começo.\n",
    "\n",
    "Hoje existe uma imensa quantidade de aplicações para este tipo de redes, e cada vez mais teremos produtos e serviços utilizando esta tecnologia. \n",
    "\n",
    "Um exemplo interessante é a [animação de fotos](https://www.myheritage.com.br/deep-nostalgia) fornecida pela empresa [MyHeritage](https://www.myheritage.com.br/).\n",
    "\n",
    "<img src=\"./images/An-animation-of-a-womans-face-by-Deep-Nostalgia.png\" height=\"400\">\n",
    "\n",
    "Na imagem acima, pode-se ver a animação e a foto original na parte inferior de cada uma das 4 imagens. Para quem gosta de cinema, estas animações lembram as fotos com movimento dos filmes de Harry Potter. Quem diria que a tecnologia iria imitar a magia, não? \n",
    "\n",
    "Para entender um pouco mais sobre redes generativas adversárias, leia o [capítulo 54 do Deep Learning Book](https://www.deeplearningbook.com.br/introducao-as-redes-adversarias-generativas-gans-generative-adversarial-networks/).  \n",
    "\n",
    "Se você quiser entender um pouco mais a fundo esta tecnologia, o vídeo [Introdução A GANs](https://www.youtube.com/watch?v=Qutg3srXSiU) mostra o que acontece nos bastidores."
   ]
  },
  {
   "cell_type": "markdown",
   "metadata": {},
   "source": [
    "## Redes Generativas de Texto\n",
    "\n",
    "Aqui a coisa fica um pouco mais séria.  \n",
    "\n",
    "A ideia fundamental por trás das redes generativas de texto é encontrar \"a próxima palavra\" ou a \"próxima frase\".  \n",
    "\n",
    "Vamos por exemplo, pensar na seguinte frase:  \n",
    "\n",
    "\"O céu está ...\". Qual seria a próxima palavra? Azul, nublado, chuvoso, escuro, branco... Pois é. Falta algo mais para podermos completar a frase. Isto se chama \"contexto\".  \n",
    "\n",
    "Por outro lado, se tivermos a seguinte frase:\n",
    "\"O dia está lindo e ensolarado. O céu está...\", você quase imediatamente pensaria em azul.  \n",
    "\n",
    "E é isto que as redes generativas de texto fazem. Elas \"compreendem\" o contexto e a partir daí conseguem fazer uma análise probabilística de resultados e gerar textos coerentes.  \n",
    "\n",
    "<center><img src=\"./images/predicao_palavra.png\"></center>\n",
    "\n",
    "Então, de forma muito grosseira, podemos dizer que uma rede generativa de texto, cria textos, da forma mais correta possível, tentando predizer a próxima palavra.\n",
    "\n",
    "## GPTs e LLMs\n",
    "\n",
    "Não é de hoje que existem as tentativas de se compreender textos, na verdade, na desde a década de 50 temos iniciativas nesta direção, mas apenas em junho de 2017, a equipe de pesquisa do Google publicou um artigo chamado [\"Attention is All You Need\"](https://arxiv.org/abs/1706.03762), onde detalharam a arquitetura dos mecanismos de atenção, o qual é a tecnologia fundamental dos atuais LLMs (Large Language Models).  \n",
    "\n",
    "Em 2018, a equipe do Google apresentou o [BERT (Bidirectional Encoder Representations from Transformers)](https://research.google/pubs/bert-pre-training-of-deep-bidirectional-transformers-for-language-understanding/), o qual realmente pavimentou os caminhos para as LLMs.  \n",
    "\n",
    "A partir destas tecnologias, foram criados os GPTs (Generative Pretrained Transformers) de onde se derivam diversos modelos em uso atualmente.\n",
    "\n",
    "Desde então, o avanço foi constante e cada vez mais expressivo. E não podemos dizer que atingimos a maturidade destas tecnologias pois todos os dias algo novo é apresentado."
   ]
  },
  {
   "cell_type": "markdown",
   "metadata": {},
   "source": [
    "De qualquer modo, existem vários recursos interessantes a explorar nas LLMs.  \n",
    "\n",
    "Comece, explorando as interfaces de consulta existentes.  \n",
    "\n",
    "Explore o mais famoso de todos o [Chat GPT](https://chatgpt.com/) da OpenAI.  \n",
    "Explore também o seu concorrente direto, o [Gemini](https://gemini.google.com/app).  \n",
    "A Microsoft, também não ficou atrás. Através do Bing, você consegue acessar o [Microsoft Copilot](https://copilot.microsoft.com/).\n",
    "E ainda, recentemente foi liberado para uso no Brasil, o chatbot da Anthropic, o [Claude](https://claude.ai/).\n",
    "\n",
    "Interaja com estes bots. Explore as seguintes situações:\n",
    "- Classificação de textos\n",
    "- Geração de respostas\n",
    "- Geração de textos\n",
    "- Traduções\n",
    "- Sumarização de textos\n",
    "- Pesquisa de informações\n",
    "- Geração de imagens\n",
    "- E se você já souber programar, geração de funções/rotinas em sua linguagem de programação preferida.\n",
    "\n",
    "Experimente também solicitar a mesma coisa para as 4 LLMs e observe os resultados.\n",
    "- Foram muito diferentes? \n",
    "- Qual delas apresentou o melhor resultado?"
   ]
  },
  {
   "cell_type": "markdown",
   "metadata": {},
   "source": [
    "# Quer saber mais?  \n",
    "\n",
    "Como sempre, existem bons materiais disponíveis na Internet.  \n",
    "\n",
    "Entretanto, como estas tecnologias são relativamente recentes, a maior parte está em inglês.\n",
    "\n",
    "Mas não se desespere, você pode utilizar os tradutores baseados em LLMs para traduzir os textos. Que tal?\n",
    "\n",
    "Na página [A Beginner's Guide to Generative AI](https://wiki.pathmind.com/generative-adversarial-network-gan) você encontra uma explicação em nível médio, inclusive com código python para você se divertir.\n",
    "\n",
    "Explore o curso da Google de [Introdução aos Large Language Models](https://www.cloudskillsboost.google/course_templates/539?locale=pt_BR). \n",
    "Mas se você gostar, explore também os cursos contidos na plataforma de aprendizado do Google.  \n",
    "\n",
    "O artigo da IBM, [O que é LLM](https://www.ibm.com/br-pt/topics/large-language-models), também ajuda a compreender os conceitos.\n",
    "\n",
    "Caso você queira ir mais fundo na parte técnica, explore o site [Hugging Face](https://huggingface.co/). Lá você encontrará muita coisa interessante e vários casos de uso distintos de LLMs.  \n",
    "\n",
    "A NVidia, o maior fabricante de hardware para inteligência artificial, publicou um e-book entitulado [\"A Beginner's Guide to Large Language Models\"](https://resources.nvidia.com/en-us-large-language-model-ebooks).  \n",
    "\n",
    "A Databrics também publicou o e-book [\"Um Guia Compacto Sobre Large Language Models (LLM)\"](https://www.databricks.com/br/resources/ebook/tap-full-potential-llm).  \n",
    "\n",
    "Explore o repositório [\"Start with Large Language Models (LLMs)\"](https://github.com/louisfb01/start-llms) no github. Há muito conteúdo por lá.  "
   ]
  },
  {
   "cell_type": "markdown",
   "metadata": {},
   "source": [
    "<hr>  \n",
    "\n",
    "# Primeiro Desafio\n",
    "\n",
    "<center><img src=\"./images/Desafio.png\", height=\"500\"></center>\n",
    "\n",
    "## O que precisa ser feito?\n",
    "\n",
    "Escolha um dos temas e mãos à obra!\n",
    "\n",
    "Tema 1: Criar um site com 3 páginas.\n",
    "\n",
    "Tema 2: Criar uma nova versão da história de Chapeuzinho Vermelho\n",
    "\n",
    "Tema 3: Traduzir e resumir o artigo o texto deste link: [Texto Base](./data/Base_Text.txt)  \n",
    "\n",
    "<hr>\n",
    "\n",
    "## Explicação do Tema 1\n",
    "\n",
    "Criar um site com as seguintes páginas:  \n",
    "\n",
    "  - Página 1: Login  \n",
    "Tela com campos para nome e senha, o botão “entar” e link “esqueci minha senha”.\n",
    "Os campos devem obrigatoriamente estar preenchidos ao se clicar o botão entrar.\n",
    "O botão entrar, redireciona para a página de produtos.  \n",
    "  - Página 2: Lista de Produtos  \n",
    "Apresentar página com uma lista de 10 produtos (a sua escolha). A lista deve conter – id do produto, nome do produto, preço unitário, foto do produto.  \n",
    "  - Página 3: Esqueci minha senha:  \n",
    "Apresentar página com campo para a pessoa informar o e-mail cadastrado e botão “redefinir a senha”. Ao se clicar o botão “redefinir senha”, validar se o campo e-mail está preenchido. Apresentar um pop-up dizendo que o link para redefinição foi enviado para o endereço informado e redirecionar para a página de login.  \n",
    "\n",
    "As páginas devem ser integralmente criadas utilizado uma LLM.  \n",
    "As páginas devem conter o logo de uma empresa hipotética. O logo deve ser criado por uma rede generativa de imagens (MidJourney, Dall-E, etc.).  \n",
    "A linguagem de script deve ser Java Script.  \n",
    "Enviar as páginas e demais elementos em um arquivo compactado para o e-mail challenges@i2a2.academy com o título \"Mulheres in Tech - Desafio 1\". Também enviar o link se efetuar o teste da página.  \n",
    "Não esqueça de incluir seu nome e e-mail na mensagem.\n",
    "\n",
    "<hr>\n",
    "\n",
    "## Explicação do Tema 2\n",
    "\n",
    "Criar uma nova versão da história “Chapeuzinho Vermelho” como uma notícia de jornal.  \n",
    "\n",
    "A nova versão deve ter um final inovador e divertido.  \n",
    "\n",
    "Deve ser integralmente criada por uma LLM.  \n",
    "\n",
    "A notícia deve conter pelo menos 4 imagens que tenham ligação entre si e com o contexto da história (registro fotográfico da matéria) . As imagens devem ser geradas por uma rede generativa (MidJourney, Dall-E, etc.).  \n",
    "\n",
    "As imagens devem estar inseridas no texto de forma a enriquecer a notícia.  \n",
    "\n",
    "No final da notícia, inclua cada um dos prompts utilizados, na ordem do conteúdo da história.  \n",
    "\n",
    "A notícia deve montada em um arquivo PDF que deverá ser enviado por e-mail para challenges@i2a2.academy com o título \"Mulheres in Tech - Desafio 1\". Não esqueça de incluir seu nome e e-mail na mensagem.  \n",
    "\n",
    "<hr>\n",
    "\n",
    "## Explicação do Tema 3\n",
    "\n",
    "Faça download do texto contido no link.  \n",
    "\n",
    "Analise o texto. Você conseguiria dizer do que se trata?  \n",
    "\n",
    "Use as 4 LLMs indicadas anteriormente (ChatGPT, Gemini, Copilot e Claude) para traduzir e resumir o texto.\n",
    "\n",
    "Crie um relatório com o resultado apresentado pelas LLMs.  \n",
    "\n",
    "Inclua no relatório as suas conclusões.  \n",
    "\n",
    "O que deu certo?  \n",
    "O que não deu certo?  \n",
    "A tradução fez sentido?  \n",
    "E o resumo?  \n",
    "Quem foi o autor do texto?  \n",
    "\n",
    "O seu relatório deverá ser enviado por e-mail em formato pdf  para challenges@i2a2.academy com o título \"Mulheres in Tech - Desafio 1\". Não esqueça de incluir seu nome e e-mail na mensagem..  \n",
    "\n",
    "<hr>"
   ]
  },
  {
   "cell_type": "markdown",
   "metadata": {},
   "source": [
    "Qualquer dúvida, poste no fórum do curso."
   ]
  },
  {
   "cell_type": "markdown",
   "metadata": {},
   "source": [
    "<center><img src=\"./images/celso_yoda.png\" height=\"200\"></center>\n",
    "<center><i><strong>Que a força esteja com você!</strong></i></center>"
   ]
  },
  {
   "cell_type": "markdown",
   "metadata": {},
   "source": [
    "Créditos: [Celso A. M. Azevedo](https://www.linkedin.com/in/celso-augusto-morato-azevedo/)"
   ]
  }
 ],
 "metadata": {
  "kernelspec": {
   "display_name": "Python 3",
   "language": "python",
   "name": "python3"
  },
  "language_info": {
   "codemirror_mode": {
    "name": "ipython",
    "version": 3
   },
   "file_extension": ".py",
   "mimetype": "text/x-python",
   "name": "python",
   "nbconvert_exporter": "python",
   "pygments_lexer": "ipython3",
   "version": "3.8.10"
  },
  "rise": {
   "autolaunch": true,
   "enable_chalkboard": true,
   "progress": true,
   "scroll": true,
   "slideNumber": true
  }
 },
 "nbformat": 4,
 "nbformat_minor": 4
}

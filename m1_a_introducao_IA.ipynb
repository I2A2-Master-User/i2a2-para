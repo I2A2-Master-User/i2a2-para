{
 "cells": [
  {
   "cell_type": "markdown",
   "metadata": {},
   "source": [
    "[<center><img src=\"./images/logo_i2a2_para.png\">](https://www.i2a2.academy/)\n",
    "# I2A2 Pará - Inteligência Artificial para Projetos Sustentáveis - Rumo à COP 30</center>\n",
    "<hr>\n",
    "Rev 2"
   ]
  },
  {
   "cell_type": "markdown",
   "metadata": {},
   "source": [
    "# Módulo 1\n",
    "\n",
    "## Introdução à Inteligência Artificial\n",
    "\n",
    "**Objetivos**:Ter um primeiro contato com os conceitos de Inteligência Artificial"
   ]
  },
  {
   "cell_type": "markdown",
   "metadata": {},
   "source": [
    "Este material o auxiliará nas sessões de autoestudo, contudo, fique à vontade para consultar outras fontes de informações, mas nunca deixe de anotá-las para uso posterior."
   ]
  },
  {
   "cell_type": "markdown",
   "metadata": {},
   "source": [
    "<center><img src=\"https://upload.wikimedia.org/wikipedia/commons/8/81/Artificial_Intelligence_%26_AI_%26_Machine_Learning_-_30212411048.jpg\" width=500></center>"
   ]
  },
  {
   "cell_type": "markdown",
   "metadata": {},
   "source": [
    "# Contextualizando"
   ]
  },
  {
   "cell_type": "markdown",
   "metadata": {},
   "source": [
    "Atualmente, existem muito interesse em torno do tema inteligência artificial.\n",
    "\n",
    "Todas as grandes empresas, se ainda não possuem produtos e serviços com \"inteligência artificial\" embarcada, estão se preparando para fazê-lo.\n",
    "\n",
    "\n",
    "Mas... Por que de uma hora para outra parece que todos tem este interesse? Por que este assunto sempre aparece nas notícias? Por que os paises estão criando políticas para inteligência artificial e investindo no seu desenvolvimento?\n",
    "\n",
    "Fundamentalmente, porque a Inteligência Artificial é o ingrediente que está mudando as regras do jogo na economia mundial.\n",
    "\n",
    "Já se sabia que estávamos migrando de uma sociedade baseada em consumo de bens materiais, orientada pelo conceito de posse e capacidade fabril para uma sociedate baseada no conhecimento e orientada a dados.\n",
    "\n",
    "E os recentes avanços da tecnologia estão propiciando mudanças nunca antes observadas pela humanidade.\n",
    "\n",
    "\n",
    "Com isto, um novo paradigma social se desenvolveu, causando a transição de vários elementos que anteriormente eram analógicos para digitais. \n",
    "\n",
    "\n",
    "Deste modo, podemos dizer que estamos vivenciando a transição da “coisa física” (átomo) para a “coisa digital” (bit).\n",
    "\n",
    "\n",
    "Assim sendo, também o mundo dos negócios está sofrendo sua desmaterialização e transição para o ambiente digital. Portanto, para compreendermos a extensão destas mudanças, precisamos nos aprofundar no que consiste ser uma organização orientada a dados.\n",
    "\n",
    "\n",
    "Mas, afinal, o que são dados?\n"
   ]
  },
  {
   "cell_type": "markdown",
   "metadata": {},
   "source": [
    "# Dados...\n",
    "<center><img src=\"./images/Dados_em_toda_parte.png\" height=\"400\"></center>"
   ]
  },
  {
   "cell_type": "markdown",
   "metadata": {},
   "source": [
    "Primeiramente, precisamos entender o conceito de “dado”.\n",
    "\n",
    "\n",
    "Chamamos de dado ao registro de algum fato, evento ou medida de algo que nos interessa. Por exemplo, uma compra pode causar a emissão de um cupom fiscal. Este cupom fiscal conterá vários dados como o produto, quantidade e valor da venda, o consumidor, impostos, etc.\n",
    "\n",
    "Mas o dado também pode ser proveniente de alguma outra fonte como o resultado da leitura de um sensor, ou ainda, uma instrução emitida para um equipamento, e assim por diante.\n",
    "\n",
    "Diga-se de passagem, durante séculos a humanidade registrou eventos das mais diversas formas, seja em placas de argila, papiros, pergaminhos ou papel.\n",
    "\n",
    "Então, independentemente do meio de registro, podemos entender que o “dado” é o elemento primário que pode ser transformado em informação. \n",
    "\n",
    "Mas, como a partir deste ponto estamos nos referindo ao ambiente digital, o dado deixa de ser um registro físico (como uma linha de um livro caixa) e passa ser representado através de uma combinação de elementos digitais chamados bits, os quais são agrupados em conjuntos de 8 unidades chamadas bytes."
   ]
  },
  {
   "cell_type": "markdown",
   "metadata": {},
   "source": [
    "<center><img src=\"./images/dados_hexadecimal.png\" height=\"300\"></center>"
   ]
  },
  {
   "cell_type": "markdown",
   "metadata": {},
   "source": [
    "Mas, os **dados** em sua forma “bruta”, não nos interessam pois não são úteis pois se resumem simplesmente ao registro de algo.\n",
    "\n",
    "\n",
    "Quando devidamente tratados e contextualizados, os dados passam a ser valiosos pois se transformam em **“informações”**.\n",
    "\n",
    "\n",
    "O próximo passo dentro da cadeia é impormos nossa interpretação às informações que recebemos. A resultante deste processo é o que chamamos de **conhecimento**.\n",
    "\n",
    "E, finalmente, quando transformamos nosso conhecimento em algo que é utilizado efetivamente para a tomada de decisões ou para a geração de ações, temos então a **“sabedoria”**.\n"
   ]
  },
  {
   "cell_type": "markdown",
   "metadata": {},
   "source": [
    "<center><img src=\"./images/piramide_conhecimento.png\">"
   ]
  },
  {
   "cell_type": "markdown",
   "metadata": {},
   "source": [
    "Agora que já sabemos o que são dados, torna-se mais simples entender o efeito causado pela transição para o ambiente digital. \n",
    "\n",
    "Como sabemos, até meados da década de 60, não havia quase nenhuma representação digital do mundo que nos cercava, pois o uso de computadores ainda era muito restrito a algumas poucas instituições.\n",
    "\n",
    "Mesmo com o início da internet, muito poucos equipamentos estavam conectados no que seria a rede mundial de computares. Para se ter uma ideia, na década de 70, haviam algumas poucas dezenas de equipamentos compondo a internet.\n"
   ]
  },
  {
   "cell_type": "markdown",
   "metadata": {
    "vscode": {
     "languageId": "plaintext"
    }
   },
   "source": [
    "<center><img src=\"./images/arpa_network.png\" height=\"400\"></center>"
   ]
  },
  {
   "cell_type": "markdown",
   "metadata": {},
   "source": [
    "Contudo, a partir da expansão dos recursos digitais e dos meios de comunicação, a rede global de computadores se expandiu de tal forma que atualmente não há praticamente nenhum ponto do planeta terra sem possibilidade de conexão e integração.\n",
    "\n",
    "\n",
    "Como já havíamos falado anteriormente, isto gerou um fenômeno totalmente sem precedentes na história da humanidade pois passou-se a gerar enormes volumes de dados dos mais diversos tipos, produzidos por pessoas, mas também por diversos sensores e equipamentos.\n",
    "\n",
    "\n",
    "A estimativa atual é que nesta avalanche de dados, a sua grande maioria não são aqueles que são gravados em bancos de dados estruturados, mas sim, o que chamamos de “dados não estruturados”. A estimativa atual é que 80% dos dados produzidos pela humanidade sejam não estruturados.\n",
    "\n",
    "\n",
    "Mas afinal, onde encontramos dados não estruturados? Neste conjunto de dados podemos incluir registros de operações de equipamentos diversos (log files), dados gerados por sensores, textos das mais diversas origens e formatos como livros, revistas, artigos, normas, memorandos, e-mails, postagens de mídias sociais, mensagens em aplicativos de comunicação, etc. Também temos dados gerados por sensores de navegação como nuvens de pontos, ou ainda imagens diversas, desde aquelas produzidas por satélites até fotos obtidas por smartphones. Além disso, podemos incluir nesta categoria áudios, vídeos ou qualquer outro conteúdo em formato de streaming, e finalmente representações mais sutis ou subjetivas como por exemplo emoções.\n",
    "\n",
    "\n",
    "Obviamente, quando voltamos para a nossa pirâmide de transformação dos dados, podemos notar que as operações realizadas com dados estruturados têm sido o objeto da maior parte dos algoritmos clássicos de processamento de dados. Contudo, esta nova classe de dados também impulsionou o desenvolvimento e aprimoramento de novas categorias de algoritmos, pois os existentes até então, não demonstraram ser suficientes para esta tarefa.\n",
    "\n",
    "Mas, se os algoritmos clássicos de processamento de dados não são suficientes para extrair informações destes dados tão variados, então qual seria a solução para este problema?\n",
    "\n",
    "Esta é uma das questões que os cientistas e especialistas se debruçaram e estudaram desde a década de 90.\n",
    "\n",
    "Fundamentalmente grande parte da tecnologia de computação desenvolvida até pouco tempo atrás era capaz apenas de trabalhar com dados estruturados. Com o aumento exponencial do volume de dados não estruturados, estas ferramentas não são mais suficientes.\n"
   ]
  },
  {
   "cell_type": "markdown",
   "metadata": {},
   "source": [
    "# A ascensão da Inteligência Artificial"
   ]
  },
  {
   "cell_type": "markdown",
   "metadata": {},
   "source": [
    "É aí que entra em cena a inteligência artificial.\n",
    "\n",
    "Os recursos trazidos pela inteligência artificial, especialmente no que tange ao machine learning e mais especificamente, ao deep learning, nos forneceram o ferramental adequado para tratarmos ambos os tipos de dados – estruturados ou não.\n",
    "\n",
    "\n",
    "E este é o motivo pelo qual a inteligência artificial exerce um papel tão relevante na Sociedade do Conhecimento. Sem ela, não seríamos capazes de processar todos os dados que nos são entregues pelos diversos tipos de equipamentos.\n",
    "\n",
    "\n",
    "Assim sendo, fica claro para todos nós que dominar os recursos de inteligência artificial é fundamental para obtermos sucesso nas iniciativas relacionadas a esta nova ordem social.\n",
    "\n",
    "\n",
    "Entretanto, o conceito de inteligência artificial é algo muito amplo. \n",
    "\n",
    "De modo geral, podemos dizer que a “Inteligência Artificial é o conjunto de tecnologias que permitem que criemos máquinas que mimetizam a capacidade humana de realizar ações ou tomar decisões”.\n"
   ]
  },
  {
   "cell_type": "markdown",
   "metadata": {},
   "source": [
    "<center><img src=\"./images/camadas_inteligencia_artificial.png\" heigth=\"300\"></center>"
   ]
  },
  {
   "cell_type": "markdown",
   "metadata": {},
   "source": [
    "Dentro deste guarda-chuva de tecnologias, podemos posicionar tecnologias como sistemas especialistas, algoritmos evolucionários, lógica fuzzy, processamento de linguagem natural, robótica e outros mais.\n",
    "\n",
    "\n",
    "Como podemos ver, como a variedade de técnicas e algoritmos é muito grande, então, para efeito deste material vamos apenas nos concentrar em uma área mais restrita da inteligência artificial. \n",
    "\n",
    "Neste caso estamos falando do Aprendizado de Máquina (Machine Learning). Este é o subconjunto da inteligência artificial que trata de aprendizado a partir de dados.\n",
    "\n",
    "\n",
    "Ainda, vale destacar que dentro do campo do aprendizado de máquina, temos uma técnica especial que simula o comportamento dos neurônios humanos. \n",
    "\n",
    "Aqui estamos falando das redes neurais artificiais e, finalmente (mas nem tanto), dentro das redes neurais temos outro subconjunto conhecido como redes neurais profundas (deep learning).\n",
    "\n",
    "\n",
    "Paralelamente a isto, nos últimos tempos temos observado um crescimento acelerado das técnicas de processamento de linguagem natural (natural language processing ou NLP). Este é um conjunto de tecnologias que se valem das técnicas de aprendizado de máquina para criar modelos que são capazes de processar dados não estruturados em níveis quase humanos. Sobre este item, em um momento futuro, vamos abordar **Redes Generativas**, que é a tecnologia que está por trás dos modelos de língua."
   ]
  },
  {
   "cell_type": "markdown",
   "metadata": {},
   "source": [
    "# A Empresa Orientada a Dados"
   ]
  },
  {
   "cell_type": "markdown",
   "metadata": {},
   "source": [
    "Já sabemos então o que são dados e papel da inteligência artificial. Mas, como isto afeta as corporações?\n",
    "\n",
    "Observamos que paralelamente ao aumento exponencial dos dados e sofisticação das tecnologias, também observamos uma transição no \"_modus operandi_\" de várias corporações espalhadas pelo mundo.\n",
    "\n",
    "Inicialmente, muito se falou de “transformação digital”, e, mais do que a implementação de um novo arcabouço tecnológico, a transformação digital diz respeito à mudança do mindset das corporações, tornando-o muito mais digital do que analógico.\n",
    "\n",
    "É obvio que uma parte (às vezes até significativa) da operação das empresas ainda tem sua representação física, mas a transformação digital implica na transição para um modelo computacional-digital dos demais processos, significando que estes processos podem (e devem) estar aderentes à lógica do universo digital."
   ]
  },
  {
   "cell_type": "markdown",
   "metadata": {},
   "source": [
    "<center><img src=\"./images/maturidade_analitica.png\" height=\"400\"></center>"
   ]
  },
  {
   "cell_type": "markdown",
   "metadata": {},
   "source": [
    "Um efeito colateral desta transição é a criação da percepção do dado como ativo. \n",
    "\n",
    "Ou seja, o dado deixa de ser um coadjuvante, apenas o registro de algum fato ou alguma medida de algo e passa a ser protagonista pois passa a ter valor para a operação e aumento da competitividade das empresas. E com isto, as empresas ganham “maturidade analítica”.\n",
    "\n",
    "\n",
    "Mas esta maturidade também implica em aumento da complexidade para a análise e compreensão das informações geradas pelos dados.\n",
    "\n",
    "\n",
    "Em sua versão mais simples, podemos encontrar as empresas que são administradas através da “Achologia”, que nada mais é do que a tomada de decisões baseadas no conhecimento tático e subjetivo. Apesar de possuir seu valor, este método não consegue extrair a riqueza que os dados podem entregar.\n",
    "\n",
    "\n",
    "No segundo estágio, ainda encontramos uma grande parcela de empresas que se valem de relatórios (digitais ou não) para compreender os eventos passados. Nesta categoria, podemos encontrar os clássicos relatórios de desempenho financeiro ou demonstrativos contábeis. A pergunta chave é “O que aconteceu?”\n",
    "\n",
    "\n",
    "Em um terceiro estágio, encontramos as empresas que já se valem de ferramentas digitais e processamento analíticos. Nesta categoria podemos incluir as empresas que possuem ERPs e outros softwares de planejamento e análise. A pergunta chave é “Por que aconteceu?”\n",
    "\n",
    "\n",
    "A seguir, encontramos as empresas que já se utilizam dos seus dados em modalidade “on-line” ou ainda em tempo real para gerar resumos executivos e painéis de operação para a tomada de decisão. Nesta fase, uma parcela significativa dos processos já se baseia em ferramentas digitais e grande parte dos dados gerados também são armazenados em repositórios departamentais) ou corporativos. Estas são empresa que já conseguem compreender o valor intrínseco dos dados. A pergunta chave é “O que está acontecendo?”\n",
    "\n",
    "\n",
    "A evolução partir deste ponto, nos leva às empresas que se utilizam significativamente dos dados para a tomada de decisões. Nesta categoria, encontramos as corporações que utilizam ferramentas de Business Intelligence em diversos graus de sofisticação. Em muitas destas corporações, já encontramos repositórios de dados (estruturados ou não) altamente organizados, ou seja, os chamados “Data Lakes”. A pergunta chave é “O que acontecerá?”\n",
    "\n",
    "\n",
    "E, finalmente, encontramos as empresas que já realizaram grande parte ou a totalidade de sua transformação digital, alcançando uma visão avançada do valor que os dados podem entregar. Estas empresas os utilizam para a tomada de decisões e, principalmente, para identificar oportunidades. Dizemos que elas alcançaram o nível prescritivo. A pergunta chave é “O que devo fazer?”\n",
    "Mas, para as empresas conseguirem obter os resultados decorrentes de um Advanced Analytics, preditiva ou prescritiva, elas precisam lançar mão dos recursos de inteligência artificial.\n",
    "\n",
    "\n",
    "Contudo, as ferramentas de IA não são algo do tipo “plug & play”. Elas carecem de um trabalho robusto para gerar resultados. Então, se faz necessário o uso de frameworks específicos para a preparação e criação dos modelos de IA, pois caso contrário, podemos não obter os resultados pretendidos ou mesmo nenhum resultado.\n"
   ]
  },
  {
   "cell_type": "markdown",
   "metadata": {},
   "source": [
    "<center><img src=\"./images/decision_management_next_best_action.png\" height=\"400\"></center>"
   ]
  },
  {
   "cell_type": "markdown",
   "metadata": {},
   "source": [
    "# Então, por que estudar Inteligência Artificial?\n",
    "\n",
    "* No longo prazo, os **dois fatores mais relevantes** para os **ganhos de produtividade** das empresas brasileiras são a **tecnologia** e a **educação/qualificação da força de trabalho**. [(De Negri & Cavalcante, 2014)](https://www.ipea.gov.br/portal/images/stories/PDFs/livros/livros/livro_produtividade_no_brasil.pdf).    \n",
    "\n",
    "* Focando no **aspecto tecnológico**, no levantamento realizado pela consultoria KPMG, no qual foram entrevistados 740 líderes de empresas globais, buscou-se identificar quais seriam as tecnologias que mais terão impacto nos negócios até 2022; sendo que as três principais foram: **internet das coisas (IoT)**; **automação de processo robótico (RPA)**; e **inteligência artificial (IA), computação cognitiva e aprendizagem de máquina**.[(KPMG, 2019)](https://assets.kpmg/content/dam/kpmg/br/pdf/2019/06/br-top-10-technologies-for-business-transformation.pdf).  \n",
    "\n",
    "* Assim como a **energia elétrica** ocasionou no final do século XIX uma **mudança radical e abrupta nos sistemas econômicos e nas estruturas sociais** – o que ficou conhecido como a **2ª Revolução Industrial** –, a **IA tem hoje esse mesmo potencial**, como afirmou o professor de Stanford [Andrew Ng](https://www.gsb.stanford.edu/insights/andrew-ng-why-ai-new-electricity) em 2016: \"**[...] A Inteligência Artificial é a nova eletricidade\"**.   \n",
    "\n",
    "* Nesta linha, um estudo da consultoria [PWC](https://www.pwc.com.br/pt/estudos/servicos/consultoria-negocios/2017/sizing-the-prize.html) calculou que o **PIB global aumentará 14% até 2030 como resultado da adoção da IA**, valor bem parecido - **15% de aumento no PIB mundial até 2030** - ao estudo [modeling the impact of Ai on the word economy](https://www.mckinsey.com/~/media/McKinsey/Featured%20Insights/Artificial%20Intelligence/Notes%20from%20the%20frontier%20Modeling%20the%20impact%20of%20AI%20on%20the%20world%20economy/MGI-Notes-from-the-AI-frontier-Modeling-the-impact-of-AI-on-the-world-economy-September-2018.ashx) da consultoria McKinsey.\n",
    "\n",
    "* De uma forma mais sistêmica, em 2017, [Devin Wenig](https://www.layer0.co/post/artificial-intelligence-strategy)  , então presidente e CEO do eBay,  afirmou que: \"[...] **Se você não tiver uma estratégia de IA, morrerá no mundo que está por vir**\".\n",
    "\n",
    "* Falando em estratégia, você conhece a [EBIA (Estratégia Brasileira de Inteligência Artificial)](https://www.gov.br/mcti/pt-br/acompanhe-o-mcti/transformacaodigital/arquivosinteligenciaartificial/ia_estrategia_documento_referencia_4-979_2021.pdf)?   \n",
    "\n",
    "* Dê uma olhadela na EBIA, especialmente no **capítulo 7 - Aplicação nos setores produtivos** busque compreender qual será o impacto no seu setor de atuação.  \n",
    "\n",
    "* Veja também o relatório [APPLICATIONS FOR MACHINE EARNING IN ENGINEERING AND THE PHYSICAL SCIENCES](https://f.hubspotusercontent00.net/hubfs/4994459/Machine%20Learning/MACHINE_LEARNING_wp.pdf) e busque identificar onde a IA (Machine Learning) mais impactará na engenharia e ciência?\n",
    "\n",
    "* Leia o relatório [A revolução das máquinas inteligentes](https://www.abdi.com.br/postagem/a-revolucao-das-maquinas-inteligentes) da ABDI\n",
    "\n",
    "* Assista o vídeo **Desafios e Oportunidades de IA no Brasil** ...\n",
    "[![Era AIoT](https://img.youtube.com/vi/NCgCE506R1I/hqdefault.jpg)](https://youtu.be/NCgCE506R1I \"Desafios e Oportunidades de IA no Brasil\") \n",
    "\n",
    "# Desafio\n",
    "Qual a relação entre a IA e a Manufatura?       \n",
    "Assista o vídeo **Documentário Industria 4.0** e procure inter-relacionar os conceitos:\n",
    "- Industria 4.0;\n",
    "- Automação;\n",
    "- Manufatura;\n",
    "- Tecnologias da indústria 4.0;\n",
    "- Conectividade na indústria 4.0;\n",
    "- Big data.\n",
    "\n",
    "[![Documentário Industria 4.0](https://img.youtube.com/vi/QWWQr6TmWGQ/hqdefault.jpg)](https://youtu.be/QWWQr6TmWGQ \"Documentário Industria 4.0\")"
   ]
  },
  {
   "cell_type": "markdown",
   "metadata": {},
   "source": [
    "# O quem vem depois?"
   ]
  },
  {
   "cell_type": "markdown",
   "metadata": {},
   "source": [
    "Já sabemos o que são dados, o que é inteligência artificial e seu papel na sociedade moderna.\n",
    "\n",
    "A partir deste ponto, provavelmente vocês estão cheias de perguntas que ainda precisamos responder.\n",
    "\n",
    "Mas, já podemos levantar a cortina e dar uma olhada em mais alguns conceitos importantes."
   ]
  },
  {
   "cell_type": "markdown",
   "metadata": {},
   "source": [
    "<center><img src=\"./images/IA_Nova_Eletricidade.png\" width=\"500\"></center>"
   ]
  },
  {
   "cell_type": "markdown",
   "metadata": {},
   "source": [
    "Como já foi dito anteriormente, Na imagem acima temos uma afirmação emblemática do Dr. Andrew Ng, um dos principais expoentes da moderna Inteligência Artificial - A Inteligência Aritificial é a nova eletricidade.\n",
    "\n",
    "Esta afirmação é muito importante por dois motivos.\n",
    "\n",
    "O primeiro é que quando pensamos no papel da eletricidade moderna, notamos que quase tudo o que nos cerca depende desta tecnologia.\n",
    "\n",
    "Aliás, em [mundo sem eletricidade](https://museuweg.net/blog/como-seria-o-mundo-sem-eletricidade/), grande parte da humanidade desapareceria e voltaríamos a viver como na idade média.\n",
    "\n",
    "Ou seja, não é possível pensar no mundo moderno, sem eletricidade.\n",
    "\n",
    "O segundo motivo está relacionado ao aspecto pervasivo da eletricidade. Nós só nos damos conta da sua existência, na sua ausência. Ou seja, apenas quando não temos energia é que percebemos que precisamos dela.\n",
    "\n",
    "Quem nunca ficou procurando uma tomada para carregar o seu celular?\n",
    "\n",
    "Pois bem. A inteligência artificial está se igualando à eletricidade. Em um futuro próximo, não vamos conseguir mais imaginar o nosso mundo sem ela, e só vamos perceber que precisamos dela na sua ausência. Mais ou menos como o celular..."
   ]
  },
  {
   "cell_type": "markdown",
   "metadata": {},
   "source": [
    "<center><img src=\"./images/tipos_de_aprendizagem_de_maquina.png\" height=\"400\"></center>"
   ]
  },
  {
   "cell_type": "markdown",
   "metadata": {},
   "source": [
    "Como nosso foco será nas técnicas que fazem uso de dados para a geração de modelos de inteligência artificial, nos restringiremos às técnicas de aprendizado de máquina (ou machine learing). E dentro destas técnicas, vamos falar de aprendizado supervisiona e não supervisionado.\n",
    "\n",
    "Pode parecer pouco, mas só aí, existe um universo a ser estudado e compreendido.\n"
   ]
  },
  {
   "cell_type": "markdown",
   "metadata": {},
   "source": [
    "# Quer saber mais?\n",
    "\n",
    "Existe muito material interessante na Internet. A boa notícia é que grande parte é gratuito. A má notícia é que os sites realmente bons estão em inglês.\n",
    "\n",
    "Mas, depois que inventaram os tradutores on-line, ficou mais fácil de vencer a barreira da língua, não?\n",
    "\n",
    "Então, seguem algumas dicas:\n",
    "\n",
    "O site [Medium](https://medium.com/) tem muita coisa boa, inclusive em português. Apesar de ser pago, você consegue acessar alguns artigos gratuitamente todos os meses. Vale a pena.\n",
    "\n",
    "Para quem sabe um pouco de inglês, o site [Statquest](https://statquest.org/) é uma joia rara. Sempre abordando assuntos complexos de uma forma leve e descontraída. Mas não são apenas assuntos complexos. Você encontrará de tudo por lá.\n",
    "\n",
    "No site DATAGEEKS existe uma série de artigos sobre [Machine Learning](https://www.datageeks.com.br/machine-learning/). Vale a leitura.\n",
    "\n",
    "No canal do Prof. [Chanin Nantasenamat](https://www.youtube.com/@DataProfessor), apesar de estar em inglês, você também encontrará muito conteúdo de qualidade, explicado de forma bastante didática. Vale dar uma passada por lá.\n",
    "\n",
    "E se você gosta de livros, há muita coisa interessante. Alguns estão disponíveis gratuitamente na internet:\n",
    "\n",
    "## Bibliografia\n",
    "AGRAVAL, A.; GANS, J.; GOLDFABER, A. Power and Prediction: The Disruptive Economics of Artificial Intelligence. Harvard Business Review Press, 2022. 288 p. ISBN-10: 1647824192. ISBN-13: 978-1647824198.\n",
    "\n",
    "[BRUNTON, S.; KUTZ, J. Data-Driven Science and Engineering Machine Learning, Dynamical Systems, and Control. Cambridge, 2021. 492 p. ISBN-10: 1108422098. ISBN-13: 978-1108422093](https://databookuw.com/databookV2.pdf).\n",
    "\n",
    "[CHAPMAN, E. et al. CRISP-DM 1.0 Step-by-step data mining guide. SPSS, 2000](https://www.kde.cs.uni-kassel.de/lehre/ws2012-13/kdd/files/CRISPWP-0800.pdf).\n",
    "\n",
    "[CHAN, S. Introduction to Probability for Data Science. Michigan Publishing Services, 2021. 704 p. ISBN-10: 1607857464. ISBN-13: 978-1607857464](https://probability4datascience.com/).\n",
    "\n",
    "COSTA, S. Introdução ilustrada à estatística (com muito humor). Harbra, 4ª edição, 2005. 416 p. ISBN-10: 852940288X. ISBN-13: 978-8529402888.\n",
    "\n",
    "[DATA SCIENCE ACADEMY. Deep Learning Book. 2022](https://www.deeplearningbook.com.br/).\n",
    "\n",
    "GOODFELLOW, I.; BENGIO, Y.; COURVILLE, A. Deep Learning. MIT PRESS, 2016. 800 p. ISBN-10: 0262035618. ISBN-13: 978-0262035613.\n",
    "\n",
    "[HASTIE, T.; TIBSHIRANIM R.; FRIEDMAM, J. The Elements of Statistical Learning: Data Mining, Inference, and Prediction. Springer, 2ª edição, 2009. 745 p. ISBN-13: 978-0387848570](https://hastie.su.domains/Papers/ESLII.pdf)\n",
    "\n",
    "HAYKIN, S. Redes Neurais: Princípios e Prática. Bookman, 2ª edição, 2017. ISBN-10: 8573077182. ISBN-13: 978-8573077186.\n",
    "\n",
    "HUFF, D. Como mentir com estatística. Intrínseca, 1ª edição, 2019. 160 p. ISBN-10: 858057952X. ISBN-13: 978-8580579529.\n",
    "\n",
    "HULL, J. Machine Learning in Business: An Introduction to the World of Data Science. Publicação Independente, 2021. 288 p. ISBN-13: 979-8508489441.\n",
    "\n",
    "[HYNDMAN, R.; ATHANASOPOULOS, G. Forecasting: Principles and Practice. Otexts, 3ª edição, 2021. 442 p. ISBN-10: 0987507133. ISBN-13: 978-0987507136](https://otexts.com/fpp3/).\n",
    "\n",
    "[JURAFSKY, D.; MARTIN, J. Speech and Language Processing An Introduction to Natural Language Processing, Computational Linguistics, and Speech Recognition. Stanford University, 2024. 569 p](https://web.stanford.edu/~jurafsky/slp3/).\n",
    "\n",
    "KANTZ, H. Nonlinear Time Series Analysis. Cambridge University Press, 1997. 320 p. ISBN-10: 0521551447. ISBN-13: 978-0521551441.\n",
    "\n",
    "PROVOST, F.; FAWCETT T. Data Science for Business. O'Reilly Media; 1ª edição, 2013, 408 p. ISBN-10: 1449361323. ISBN-13: 978-1449361327.\n",
    "\n",
    "[SUTTON, R.; BARTO, A. Reinforcement Learning An Introduction. MIT Press, 2ª edição, 2018. 552 p. ISBN-10: 0262039249. ISBN-13: 978-0262039246](https://www.andrew.cmu.edu/course/10-703/textbook/BartoSutton.pdf).\n",
    "\n",
    "[SZELISKI, R. Computer Vision: Algorithms and Applications. Springer, 2ª edição, 2022. 947 p. ISBN-10: 3030343715. ISBN-13: 978-3030343712](https://szeliski.org/Book/).\n",
    "\n",
    "[TSAY, R.; CHEN, R. Nonlinear Time Series Analysis. Wiley, 2019. 510p. ISBN-13: 9781119264057](https://www.biodyn.ro/course/literatura/Nonlinear_Time_Series_Analysis_2019_Ruey_S._Tsay,_Rong_Chen.pdf).\n",
    "\n",
    "[ZHANG, A; et al. Dive into Deep Learning. Cambridge University Press, 1ª edição, 2023. 574 p. ISBN-10: 1009389432. ISBN-13: 978-1009389433]( https://d2l.ai/index.html).\n",
    "\n",
    "\n"
   ]
  },
  {
   "cell_type": "markdown",
   "metadata": {},
   "source": [
    "<hr>\n",
    "\n",
    "Qualquer dúvida, poste no fórum do curso.\n",
    "\n",
    "Créditos: [Celso A. M. Azevedo](https://www.linkedin.com/in/celso-augusto-morato-azevedo/)"
   ]
  },
  {
   "cell_type": "markdown",
   "metadata": {},
   "source": []
  }
 ],
 "metadata": {
  "language_info": {
   "name": "python"
  }
 },
 "nbformat": 4,
 "nbformat_minor": 2
}

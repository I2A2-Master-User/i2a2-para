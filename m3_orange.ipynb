{
 "cells": [
  {
   "cell_type": "markdown",
   "metadata": {},
   "source": [
    "[<center><img src=\"images/Logo_I2A2.webp\"></center>](https://www.i2a2.ca/)         \n",
    "Rev 3"
   ]
  },
  {
   "cell_type": "markdown",
   "metadata": {},
   "source": [
    "# Módulo 3"
   ]
  },
  {
   "cell_type": "markdown",
   "metadata": {
    "slideshow": {
     "slide_type": "slide"
    }
   },
   "source": [
    "# Aula 3 - parte 1: Orange Data Mining\n",
    "\n",
    "\n",
    "**Objetivo**: Apresentar a ferramenta **Orange Data Mining**"
   ]
  },
  {
   "cell_type": "markdown",
   "metadata": {},
   "source": [
    "Este material o auxiliará nas sessões de autoestudo, contudo, fique à vontade para consultar outras fontes de informações, mas nunca deixe de citá-las."
   ]
  },
  {
   "cell_type": "markdown",
   "metadata": {},
   "source": [
    "# Orange Data Mining\n",
    "\n",
    "* Orange é um kit de ferramentas de visualização de dados, aprendizado de máquina e mineração de dados de código aberto. Ele apresenta um front-end de programação visual para análise exploratória de dados qualitativos rápida e visualização interativa de dados. [[wikipedia](https://en.wikipedia.org/wiki/Orange_(software))]\n",
    "\n",
    "[<img src=\"images/OrangeDM.png\"/>](https://orangedatamining.com/)\n",
    "* Faça download e instale o Orange Data Mining no seu computador atentando para o sistema operacional utilizado.\n",
    "\n",
    "   * [Link para download](https://orangedatamining.com/download/#linux)\n",
    "   \n",
    "* Explore a ferramenta, navegue pelos menus ...\n",
    "   \n",
    "### Outras ferramentas semelhantes (não serão abordadas neste curso):\n",
    "* [knime](https://www.knime.com/)\n",
    "* [RapidMiner](https://rapidminer.com/get-started/)\n",
    "* [Weka](https://www.cs.waikato.ac.nz/ml/weka/)\n"
   ]
  },
  {
   "cell_type": "markdown",
   "metadata": {},
   "source": [
    "# Visão Geral do Orange Data Mining\n",
    "\n",
    "* Assista aos vídeos abaixo para ter uma visão geral do **Orange Data Mining**: \n",
    "\n",
    "[![IntroducaoOrange](https://img.youtube.com/vi/bG4qp_XZPko/hqdefault.jpg)](https://youtu.be/bG4qp_XZPko \"IntroducaoOrange\")\n",
    "\n",
    "[![ApresentandoOrange](https://img.youtube.com/vi/cLnqnbpPiUw/hqdefault.jpg)](https://youtu.be/cLnqnbpPiUw \"ApresentandoOrange\")\n",
    "\n",
    "\n",
    "[![Orangeintro](https://img.youtube.com/vi/HXjnDIgGDuI/hqdefault.jpg)](https://youtu.be/HXjnDIgGDuI \"Orangeintro\")"
   ]
  },
  {
   "cell_type": "markdown",
   "metadata": {},
   "source": [
    "# Conceitos Importantes\n",
    "\n",
    "## Canvas\n",
    "É a área (quadro de desenho) na qual o usuário pode inserir os componentes (widget) formando um fluxo de execução (workflow).\n",
    "\n",
    "<img src=\"images/canvas.png\" alt=\"jupyter\" style=\"width: 500px;\"/>\n",
    "\n",
    "## Widget\n",
    "São elementos que podem ler, processar e visualizar dados. [Aqui](https://orangedatamining.com/widget-catalog/) você pode visualizar todos os widgets disponíveis na ferramenta. Explore alguns!     \n",
    "\n",
    "Os widgets se comunicam, sendo suas saídas conectadas as entradas uns dos outros.\n",
    "\n",
    "\n",
    "## Workflow\n",
    "São as possíveis sequências de operações e recursos, conforme os widgets são conectados. [Aqui](https://orangedatamining.com/workflows/) você pode visualizar alguns exemplos de workflows."
   ]
  },
  {
   "cell_type": "markdown",
   "metadata": {},
   "source": [
    "# Tutoriais do Orange\n",
    "Explore o [canal da Orange no Youtube](https://www.youtube.com/c/OrangeDataMining/videos?view=0&sort=da&flow=grid). Se necessário, habilite a legenda em Português."
   ]
  },
  {
   "cell_type": "markdown",
   "metadata": {},
   "source": [
    "# Transformando dados em ideias\n",
    "\n",
    "* Assista ao vídeo [Orange DataMining Transformando dados em idéias](https://www.espm.br/cursos/pocket-records/orange-datamining-transformando-dados-em-ideias/) do prof. João Manoel Quadros Barros."
   ]
  },
  {
   "cell_type": "markdown",
   "metadata": {},
   "source": [
    "# Portal Brasileiro de Dados Abertos\n",
    "\n",
    "* Assista ao vídeo [Orange Data Mining; uma aplicação introdutória no Portal Brasileiro de Dados Abertos](https://www.youtube.com/watch?v=ot1bxrsYOeY) do prof. Dr. Abdinardo Oliveira."
   ]
  },
  {
   "cell_type": "markdown",
   "metadata": {},
   "source": [
    "# Projeto de Análise Exploratória de Dados\n",
    "\n",
    "* Escolha uma base de dados qualquer e realize uma EDA utilizando o Orange"
   ]
  },
  {
   "cell_type": "markdown",
   "metadata": {},
   "source": [
    "# Quer saber mais?\n",
    "\n",
    "   * Assista ...\n",
    "\n",
    "[![Análise de Dados com Orange ](https://img.youtube.com/vi/_-wdO6kYeRk/hqdefault.jpg)](https://youtu.be/_-wdO6kYeRk \"Análise de Dados com Orange \")  \n",
    "\n",
    "* Leia a série de artigos [Data Science: Introduction to Orange Tool](https://medium.com/geekculture/data-science-introduction-to-orange-tool-part-1-bff18bb159a#:~:text=Orange%20is%20an%20open%2Dsource,used%20as%20a%20Python%20library)\n",
    "\n",
    "\n",
    "# O Futuro do Trabalho: 10 habilidades que vão estar em alta até 2025\n",
    "\n",
    "* Segundo o relatório [Future of Jobs: The top 10 skills to be developed by 2025](http://www3.weforum.org/docs/WEF_Future_of_Jobs_2020.pdf), do Fórum Econômico Mundial, **Resiliência, tolerância ao estresse e flexibilidade** é a 9ª principal habilidade que estará em alta até 2025.   \n",
    "\n",
    "## Resiliência, tolerância ao estresse e flexibilidade\n",
    "\n",
    "* Pesquise no artigo [COMPETÊNCIAS RELEVANTES PARA O PROFISSIONAL DO FUTURO - COMPETÊNCIAS LISTADAS PELO RELATÓRIO “THE FUTURE OF JOB” DO FÓRUM ECONÔMICO MUNDIAL E A PREVISÃO DE FUTURO DE YUVAL HARARI](https://semanaacademica.com.br/artigo/competencias-relevantes-para-o-profissional-do-futuro-competencias-listadas-pelo-relatorio-do) e no e-book [O Guia Definitivo das Competências](https://conteudo.qulture.rocks/o-guia-definitivo-das-competencias?tipo=ebooks) sobre **Resiliência, tolerância ao estresse e flexibilidade**.\n",
    "\n",
    "### Para saber mais ...\n",
    "* Assista aos vídeos: \n",
    "\n",
    "    - Como enfrentar o estresse e criar resiliência?   \n",
    "    \n",
    "[![resiliência](https://img.youtube.com/vi/9XvfHHn4AkE/hqdefault.jpg)](https://youtu.be/9XvfHHn4AkE \"resiliência\")  \n",
    "\n",
    "   - Mindfulness no mundo corporativo Marcelo Demarzo, Professor da UNIFESP\n",
    "\n",
    "[![Mindfulness](https://img.youtube.com/vi/egXGalwdLM0/hqdefault.jpg)](https://youtu.be/egXGalwdLM0 \"Mindfulness\")  \n",
    "\n",
    "   - Como fazer do estresse um amigo\n",
    "\n",
    "[![Kelly McGonigal](https://img.youtube.com/vi/RcGyVTAoXEU/hqdefault.jpg)](https://youtu.be/RcGyVTAoXEU \"Como fazer do estresse um amigo\")  \n",
    "\n",
    "\n",
    "# Gosta de livros\n",
    "\n",
    "   * Veja o livro: [Introduction to Data Mining](https://file.biolab.si/notes/2018-05-intro-to-datamining-notes.pdf)"
   ]
  },
  {
   "cell_type": "markdown",
   "metadata": {},
   "source": [
    "Qualquer dúvida, poste no fórum da disciplina.\n",
    "### Te vejo na mentoria!"
   ]
  }
 ],
 "metadata": {
  "kernelspec": {
   "display_name": "Python 3",
   "language": "python",
   "name": "python3"
  },
  "language_info": {
   "codemirror_mode": {
    "name": "ipython",
    "version": 3
   },
   "file_extension": ".py",
   "mimetype": "text/x-python",
   "name": "python",
   "nbconvert_exporter": "python",
   "pygments_lexer": "ipython3",
   "version": "3.8.10"
  },
  "rise": {
   "autolaunch": true,
   "enable_chalkboard": true,
   "progress": true,
   "scroll": true,
   "slideNumber": true
  }
 },
 "nbformat": 4,
 "nbformat_minor": 4
}

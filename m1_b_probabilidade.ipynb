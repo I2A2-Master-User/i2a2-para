{
 "cells": [
  {
   "cell_type": "markdown",
   "metadata": {},
   "source": [
    "[<center><img src=\"./images/logo_fly.png\">](https://www.flyeducacao.org/)\n",
    "# Mulheres in Tech</center>\n",
    "<hr>\n",
    "Rev 12"
   ]
  },
  {
   "cell_type": "markdown",
   "metadata": {
    "slideshow": {
     "slide_type": "slide"
    }
   },
   "source": [
    "# Módulo 1 "
   ]
  },
  {
   "cell_type": "markdown",
   "metadata": {},
   "source": [
    "## Aula 2: Probabilidade (02/20)  \n",
    "\n",
    "**Objetivos**: Revisitar o conceito de probabilidade e suas aplicações em Inteligência Artificial."
   ]
  },
  {
   "cell_type": "markdown",
   "metadata": {},
   "source": [
    "* Este material o auxiliará nas sessões de autoestudo, contudo, fique à vontade para consultar outras fontes de informações, mas nunca deixe de anotá-las para uso posterior."
   ]
  },
  {
   "cell_type": "markdown",
   "metadata": {},
   "source": [
    "# Começando nossa Jornada de Aprendizagem\n",
    "\n",
    "Estamos começando nossa jornada de aprendizagem **\\0/**   \n",
    "Veja nossa trilha ...\n",
    "\n",
    "<center><img src=\"images/trilha.png\", width=\"700\"></center>"
   ]
  },
  {
   "cell_type": "markdown",
   "metadata": {},
   "source": [
    "# Começando ...\n",
    "\n",
    "[<center><img src=\"images/meme.jpg\"></center>](https://datahackers.com.br/)      \n"
   ]
  },
  {
   "cell_type": "markdown",
   "metadata": {},
   "source": [
    "# Determinístico, aleatório, estocástico e caótico\n",
    "Sua primeira tarefa é entender os conceitos de **Determinístico, aleatório, estocástico e caótico**. Assista o vídeo abaixo e procure as definições destes conceitos e ainda busque exemplificar cada um deles no nosso dia a dia.\n",
    "\n",
    "\n",
    "[![Determinístico, aleatório, estocástico e caótico](https://img.youtube.com/vi/05OcAXuVPXo/hqdefault.jpg)](https://youtu.be/05OcAXuVPXo \"Determinístico, aleatório, estocástico e caótico\")"
   ]
  },
  {
   "cell_type": "markdown",
   "metadata": {},
   "source": [
    "# Probabilidade\n",
    "Com os conceitos acima internalizados, como podemos relacioná-los com o conceito de probabilidade?    \n",
    "Sua próxima tarefa é entender o conceito de **probabilidade**. Assista o vídeo **Introdução à Teoria das Probabilidade** do [Prof. Francisco Rodrigues](https://sites.icmc.usp.br/francisco/) e procure as definições para:\n",
    "- Probabilidade;\n",
    "- Espaço Amostral;\n",
    "- Evento.\n",
    "\n",
    "\n",
    "[![Probabilidades - Aula 1](https://img.youtube.com/vi/7aHjkGFtbnM/hqdefault.jpg)](https://youtu.be/7aHjkGFtbnM \"Probabilidades - Aula 1\")"
   ]
  },
  {
   "cell_type": "markdown",
   "metadata": {},
   "source": [
    "* Outro vídeo interessante para entender o conceito de probabilidade é listado abaixo:    \n",
    "\n",
    "[![Probabilidade básica](https://img.youtube.com/vi/AWSkKdvJX4c/hqdefault.jpg)](https://youtu.be/AWSkKdvJX4c \"Probabilidade básica\")\n",
    "\n",
    "Este vídeo faz parte do canal da [Khan Academy](https://pt.khanacademy.org/math/statistics-probability/probability-library), recomendamos a consulta."
   ]
  },
  {
   "cell_type": "markdown",
   "metadata": {},
   "source": [
    "Busque livremente pelas definições dos conceitos abaixo:\n",
    "- Experimento (Experiment);\n",
    "- Resultado (Outcome);\n",
    "- Pontos amostrais (Sample point).\n",
    "- Evento complementar (Complement).\n",
    "- Tipo de eventos.\n",
    "\n",
    "**Ah! não esqueça de anotar as fontes consultadas.**"
   ]
  },
  {
   "cell_type": "markdown",
   "metadata": {},
   "source": [
    "# Teorema de Bayes\n",
    "\n",
    "* Assista aos vídeos:\n",
    "\n",
    "[![Teorema de Bayes](https://img.youtube.com/vi/sRfVDPJAkro/hqdefault.jpg)](https://youtu.be/sRfVDPJAkro \"Teorema de Bayes\")   \n",
    "\n",
    "[![Bayes theorem, the geometry of changing beliefs](https://img.youtube.com/vi/HZGCoVF3YvM/hqdefault.jpg)](https://youtu.be/HZGCoVF3YvM \"Bayes theorem, the geometry of changing beliefs\") "
   ]
  },
  {
   "cell_type": "markdown",
   "metadata": {},
   "source": [
    "# Amostras enviesadas \n",
    "* Assista ao vídeo. Aqui temos um ótimo exemplo sobre este assunto!\n",
    "\n",
    "\n",
    "[![Isto é Matemática -](https://img.youtube.com/vi/3g_LruYERf0/hqdefault.jpg)](https://youtu.be/3g_LruYERf0 \"Amostras Enviesadas\")"
   ]
  },
  {
   "cell_type": "markdown",
   "metadata": {},
   "source": [
    "# Probabiliadade x IA\n",
    "\n",
    "Ok, mas qual a relação da probabiliadade/matemática com a IA?    \n",
    "Leia os artigos:  \n",
    "- [A Matemática da Inteligência Artificial](https://blogs.oglobo.globo.com/ciencia-matematica/post/matematica-da-inteligencia-artificial.html) e\n",
    "- [Como os modelos estatísticos se aplicam no Machine Learning](https://www.aquare.la/como-os-modelos-estatisticos-se-aplicam-no-machine-learning/)"
   ]
  },
  {
   "cell_type": "markdown",
   "metadata": {},
   "source": [
    "O próximo passo é a escolha do canal da [Khan Academy](https://pt.khanacademy.org/math/statistics-probability/probability-library) e/ou a [playlist](https://www.youtube.com/watch?v=HzOCwzzlGiA&list=PLSc7xcwCGNh3Ls-WARhH54WwiqB91Kyak&index=2) do Prof. Francisco Rodrigues para avançar no autoestudo de probabilidade. Outras fontes podem ser consultadas.     \n",
    "O Prof. Francisco preparou ainda o [Roteiro: Introdução à Teoria das Probabilidades](https://sites.icmc.usp.br/francisco/roteiro.html), recomendamos muito a consulta."
   ]
  },
  {
   "cell_type": "markdown",
   "metadata": {},
   "source": [
    "# Quer saber mais\n",
    "* Explore a playlist de [Probabilidades](https://www.youtube.com/watch?v=7aHjkGFtbnM&list=PLSc7xcwCGNh3Ls-WARhH54WwiqB91Kyak) do prof. Francisco Rodrigues\n",
    "\n",
    "* Leia os artigos:\n",
    "    - [Como a inteligência artificial e os dados podem criar valor para as empresas](https://www.mckinsey.com/featured-insights/artificial-intelligence/how-artificial-intelligence-and-data-add-value-to-businesses/pt-BR) \n",
    "\n",
    "    - [Inteligência artificial: A hora de agir é agora](https://www.mckinsey.com/industries/advanced-electronics/our-insights/artificial-intelligence-the-time-to-act-is-now/pt-br#)  \n",
    "\n",
    "    - [Roadmap of Mathematics for Machine Learning](https://medium.com/analytics-vidhya/roadmap-of-mathematics-for-machine-learning-48f23baa57)  \n",
    "    \n",
    "\n",
    "[![prob](https://img.youtube.com/vi/LBemXHm_Ops/hqdefault.jpg)](https://youtu.be/LBemXHm_Ops \"prob\")\n",
    "\n",
    "* Veja a playlist Matemática e Inteligência Artificial\n",
    "\n",
    "[![mathIA](https://img.youtube.com/vi/SswAAOit9Iw/hqdefault.jpg)](https://www.youtube.com/watch?v=SswAAOit9Iw&list=PLEx1BRi5A-snYw9P1tmDaHz_L61IV_AvM \"mathIA\")  \n",
    "\n",
    "* **Artificial Intelligence is the New Electricity** do prof. Andrew Ng\n",
    "   \n",
    "   [![Andrew Ng:](https://img.youtube.com/vi/21EiKfQYZXc/hqdefault.jpg)](https://youtu.be/21EiKfQYZXc \"Artificial Intelligence is the New Electricity\")\n",
    "\n",
    "* Explore o curso [Probability The Science of Uncertainty and Data](https://www.youtube.com/watch?v=BAolvTtZVPY)\n",
    "\n",
    "\n",
    "## Diferença entre ciência de dados e pesquisa operacional\n",
    "\n",
    "   * Existe diferença? Leia os artigos:   \n",
    "       - [Diferença entre ciência de dados e pesquisa operacional](https://acervolima.com/diferenca-entre-ciencia-de-dados-e-pesquisa-operacional/);\n",
    "\n",
    "\n",
    "       - [O que é pesquisa operacional?](https://www.sobrapo.org.br/o-que-e-pesquisa-operacional).\n",
    "\n",
    "       \n",
    "   * Explore a playlist [Pesquisa Operacional e Data Science](https://www.youtube.com/watch?v=qCOpsuppByU&list=PLEx1BRi5A-sm9riRrWfqXwZdvuNI68pnR)  \n",
    "   \n",
    "   \n",
    "## Curiosidades\n",
    "\n",
    "\n",
    "   * [10 Best Certification Courses for Artificial Intelligence- Beginner to Advanced\n",
    "](https://www.mltut.com/best-certification-courses-for-artificial-intelligence/)\n",
    "   \n",
    "   * [Por que todo profissional precisa entender IA?](https://youtu.be/gMantXmXqfM)\n",
    "\n",
    "   * [Habilidades Requeridas para a Sociedade 5.0](https://sol.sbc.org.br/index.php/ctrle/article/view/11445) \n",
    "   \n",
    "\n",
    "# O Futuro do Trabalho: 10 habilidades que vão estar em alta até 2025\n",
    "\n",
    "Segundo o relatório [Future of Jobs: The top 10 skills to be developed by 2025](http://www3.weforum.org/docs/WEF_Future_of_Jobs_2020.pdf), do Fórum Econômico Mundial, as 10 principais habilidades que estarão em alta até 2025 serão: \n",
    "\n",
    "1. Pensamento analítico e inovação\n",
    "2. Aprendizagem ativa e estratégias de aprendizado\n",
    "3. Resolução de problemas\n",
    "4. Pensamento crítico\n",
    "5. Criatividade\n",
    "6. Liderança\n",
    "7. Uso, monitoramento e controle de tecnologias\n",
    "8. Programação\n",
    "9. Resiliência, tolerância ao estresse e flexibilidade\n",
    "10. Raciocínio lógico\n",
    "\n",
    "## Pensamento Analítico\n",
    "\n",
    "Pesquise no artigo [COMPETÊNCIAS RELEVANTES PARA O PROFISSIONAL DO FUTURO - COMPETÊNCIAS LISTADAS PELO RELATÓRIO “THE FUTURE OF JOB” DO FÓRUM ECONÔMICO MUNDIAL E A PREVISÃO DE FUTURO DE YUVAL HARARI](https://pt.scribd.com/document/565301777/artigo-semana-academica-daniele-rodrigues-v2-1-pdf) e no e-book [O Guia Definitivo das Competências](https://conteudo.qulture.rocks/o-guia-definitivo-das-competencias?tipo=ebooks) sobre **Pensamento Analítico** (Capacidade Analítica)   \n",
    "\n",
    "### Para saber mais ...\n",
    "Assista aos vídeos: \n",
    "\n",
    "- Como pensamento analítico transforma o mundo  \n",
    "\n",
    "[![ Como pensamento analítico transforma o mundo](https://img.youtube.com/vi/Y8pRTaDlH_o/hqdefault.jpg)](https://youtu.be/Y8pRTaDlH_o \" Como pensamento analítico transforma o mundo\")  \n",
    "\n",
    "- Destravando o seu pensamento analítico: aprender fazendo e como usar em qualquer carreira. Prof. Lucas Rossi (LivUp)  \n",
    "\n",
    "[![Destravando o seu pensamento analítico](https://img.youtube.com/vi/Gj_hSzOiz4U/hqdefault.jpg)](https://youtu.be/Gj_hSzOiz4U?t=900 \"Destravando o seu pensamento analítico\")  \n",
    "\n",
    "* Leia o artigo: [Como desenvolver o pensamento analítico com 9 dicas](https://www.blogdoead.com.br/tag/carreira/pensamento-analitico)"
   ]
  },
  {
   "cell_type": "markdown",
   "metadata": {},
   "source": [
    "# Qual o seu caminho/trilha?\n",
    "* Analista de dados\n",
    "* Cientista de dados\n",
    "* Engenheiro de dados\n",
    "* Engenheiro de machine learning\n",
    "\n",
    "- Clique na figura abaixo e veja as trilhas possíveis ...\n",
    "[<center><img src=\"images/aiexpert.png\"></center>](https://i.am.ai/roadmap/#fundamentals)\n"
   ]
  },
  {
   "cell_type": "markdown",
   "metadata": {},
   "source": [
    "# Gosta de livros?\n",
    "[Probabilidade e Estatística - Sonia Maria Barros Barbosa Correa](http://estpoli.pbworks.com/f/livro_probabilidade_estatistica_2a_ed.pdf)     \n",
    "\n",
    "[Matemática Estatística e Probabilidade - Jorge Luiz de Castro e Silva et al](https://educapes.capes.gov.br/bitstream/capes/554261/2/Livro%20Estatistica%20e%20Probabilidade%20.pdf)  \n",
    "\n",
    "[Introduction to Probability for Data Science - Stanley H. Chan](https://probability4datascience.com/)    \n",
    "\n",
    "[Probabilistic Machine Learning - a book series by Kevin Murphy](https://probml.github.io/pml-book/)\n",
    "\n",
    "[Tópicos em Matemática para Cientistas de Dados - Wagner Bonat](http://www.leg.ufpr.br/~wagner/TMCD/)"
   ]
  },
  {
   "cell_type": "markdown",
   "metadata": {},
   "source": [
    "<hr>\n",
    "Qualquer dúvida, poste no fórum do curso.  \n",
    "\n",
    "Créditos: [Vagner Sanches Vasconcelos](https://www.linkedin.com/in/vsvasconcelos/)"
   ]
  },
  {
   "cell_type": "markdown",
   "metadata": {},
   "source": []
  }
 ],
 "metadata": {
  "kernelspec": {
   "display_name": "Python 3",
   "language": "python",
   "name": "python3"
  },
  "language_info": {
   "codemirror_mode": {
    "name": "ipython",
    "version": 3
   },
   "file_extension": ".py",
   "mimetype": "text/x-python",
   "name": "python",
   "nbconvert_exporter": "python",
   "pygments_lexer": "ipython3",
   "version": "3.8.10"
  },
  "rise": {
   "autolaunch": true,
   "enable_chalkboard": true,
   "progress": true,
   "scroll": true,
   "slideNumber": true
  }
 },
 "nbformat": 4,
 "nbformat_minor": 4
}

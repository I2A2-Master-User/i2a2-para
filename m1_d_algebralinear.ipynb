{
 "cells": [
  {
   "cell_type": "markdown",
   "metadata": {},
   "source": [
    "[<center><img src=\"./images/logo_i2a2_para.png\">](https://www.i2a2.academy/)\n",
    "# I2A2 Pará - Inteligência Artificial para Projetos Sustentáveis - Rumo à COP 30</center>\n",
    "<hr>  \n",
    "Rev 10"
   ]
  },
  {
   "cell_type": "markdown",
   "metadata": {
    "slideshow": {
     "slide_type": "slide"
    }
   },
   "source": [
    "# Módulo 1 "
   ]
  },
  {
   "cell_type": "markdown",
   "metadata": {},
   "source": [
    "## Aula 3: Álgebra Linear (03/20)  \n",
    "\n",
    "**Objetivos**: Revisitar os conceitos de álgebra linear e suas aplicações em Inteligência Artificial."
   ]
  },
  {
   "cell_type": "markdown",
   "metadata": {},
   "source": [
    "Este material o auxiliará nas sessões de autoestudo, contudo, fique à vontade para consultar outras fontes de informações, mas nunca deixe de anotá-las para uso posterior."
   ]
  },
  {
   "cell_type": "markdown",
   "metadata": {},
   "source": [
    "# O que é um vetor?  \n",
    "\n",
    "<img src=\"https://cdn.dicionariopopular.com/imagens/nazareconfusamatematica.gif\"/>\n",
    "\n",
    "* Sua primeira tarefa é entender o conceito de **vetor**.  \n",
    "\n",
    "Assista o vídeo abaixo ...  \n",
    "\n",
    "[![Introdução aos vetores para a álgebra linear.](https://img.youtube.com/vi/Y0ZyUhi0khY/hqdefault.jpg)](https://youtu.be/Y0ZyUhi0khY \"Introdução aos vetores para a álgebra linear.\")"
   ]
  },
  {
   "cell_type": "markdown",
   "metadata": {},
   "source": [
    "   * Aproveite para explorar o [Khan Academy](https://pt.khanacademy.org/math/linear-algebra/vectors-and-spaces) sobre Álgebra linear."
   ]
  },
  {
   "cell_type": "markdown",
   "metadata": {},
   "source": [
    "# Medidas de Distância - similaridade e dissimilaridade\n",
    "\n",
    "Pesquise livremente por:\n",
    "- Distância euclidiana;\n",
    "- Distância manhattan;\n",
    "- Similaridade cosseno.\n",
    "\n",
    "**Ah! não esqueça de anotar as fontes consultadas.**\n"
   ]
  },
  {
   "cell_type": "markdown",
   "metadata": {},
   "source": [
    "# Matriz\n",
    "\n",
    "Você se lembra das aulas de matrizes no ensino médio?       \n",
    "\n",
    "Veja os vídeos abaixo para refrescar alguns conceitos:  \n",
    "\n",
    "[![Matrizes e Determinantes](https://img.youtube.com/vi/r1o7RryS8WM/hqdefault.jpg)](https://youtu.be/r1o7RryS8WM \"Matrizes e Determinantes\")    \n",
    "\n",
    "\n",
    "Fundamentos Matemáticos para Computação - Matrizes  \n",
    "\n",
    "[![FundMat](https://img.youtube.com/vi/CqWPZH-MvaU/hqdefault.jpg)](https://youtu.be/CqWPZH-MvaU \"FundMat\")"
   ]
  },
  {
   "cell_type": "markdown",
   "metadata": {},
   "source": [
    "# Vetores, Matrizes e NLP  \n",
    "\n",
    "Já ouviu falar em [Processamento de Língua Natural](https://www.youtube.com/watch?v=NBqDzewxJDo&list=PLt2qoMeOJsQyAklWpREY5ivAUe3jrrR21&index=1)?  \n",
    "\n",
    "Tem ideia de como vetores e matrizes são utilizadas em NLP?  \n",
    "\n",
    "Veja os vídeos abaixo e tente compreender isto:  \n",
    "\n",
    "[![Representação Vetorial de Textos](https://img.youtube.com/vi/6v7Zjdpwj4c/hqdefault.jpg)](https://youtu.be/6v7Zjdpwj4c \"Representação Vetorial de Textos\")\n",
    "\n",
    "[![Word2Vec](https://img.youtube.com/vi/1mn4DW2f6y4/hqdefault.jpg)](https://youtu.be/1mn4DW2f6y4 \"Word2Vec\")\n",
    "\n",
    "\n",
    "Assista o vídeo abaixo, não se preocupe ainda com os detalhes, depois explore este [site](https://projector.tensorflow.org/)  \n",
    "\n",
    "[![Word2Vec](https://img.youtube.com/vi/-0G-2_vpVAI/hqdefault.jpg)](https://youtu.be/-0G-2_vpVAI \"Word2Vec\")\n"
   ]
  },
  {
   "cell_type": "markdown",
   "metadata": {},
   "source": [
    "# Matrizes e Redução da dimensionalidade\n",
    "\n",
    "Já ouviu falar na **maldição da dimensionalidade**?     \n",
    "\n",
    "Assista o vídeo abaixo para compreender isto!  \n",
    "\n",
    "[<img src=\"images/dimencionalidade.png\">](https://eaulas.usp.br/portal/embed-video?idItem=9667&autostart=false)\n",
    "\n",
    "Assista agora o vídeo [Análise de Componentes Principais](https://eaulas.usp.br/portal/embed-video?idItem=9660&autostart=false) e entenda o que é o **PCA**.  "
   ]
  },
  {
   "cell_type": "markdown",
   "metadata": {},
   "source": [
    "# Autovetores e Autovalores  \n",
    "\n",
    "Assista aos vídeos abaixo ...  \n",
    "\n",
    "[![Word2Vec](https://img.youtube.com/vi/PFDu9oVAE-g/hqdefault.jpg)](https://youtu.be/PFDu9oVAE-g \"Autovetores e autovalores | A essência da Álgebra Linear, capítulo 10\")  \n",
    "\n",
    "[The applications of eigenvectors and eigenvalues | That thing you heard in Endgame has other uses](https://youtu.be/i8FukKfMKCI)"
   ]
  },
  {
   "cell_type": "markdown",
   "metadata": {},
   "source": [
    "# O que são Tensores?  \n",
    "\n",
    "Assista aos vídeos abaixo ...  \n",
    "\n",
    "[![tensores](https://img.youtube.com/vi/f5liqUk0ZTw/hqdefault.jpg)](https://youtu.be/f5liqUk0ZTw \"What's a Tensor?\")\n",
    "\n",
    "[![tensores](https://img.youtube.com/vi/bXKTeKtxmsI/hqdefault.jpg)](https://youtu.be/bXKTeKtxmsI \"O que é um tensor? \")\n"
   ]
  },
  {
   "cell_type": "markdown",
   "metadata": {},
   "source": [
    "# Desafios\n",
    "\n",
    "Você sabe o que é um [jupyter notebook](https://www.fschuch.com/blog/2021/01/22/jupyter-notebook-como-uma-poderosa-ferramenta-educacional/)?     \n",
    "\n",
    "No módulo 2, entraremos em detalhes sobre essa poderosa ferramenta; aqui a ideia é você simplesmente utilizar estes notebooks em um ambiente de nuvem (cloud) sem se preocupar com os detalhes de instalação.  \n",
    "\n",
    "Abaixo temos 3 notebooks com aplicações de álgebra linear, eles serão executados no ambiente de nuvem Binder. Após você clicar no botão, o sistema Binder alocará um ambiente jupyter notebook na nuvem para você - isto demora alguns minutos.  \n",
    "\n",
    "\n",
    "* Veja no vídeo abaixo o que faz o Jupyter Notebook?  \n",
    "\n",
    "[![Jupyter Notebook](https://img.youtube.com/vi/CFJaCB_K5bo/hqdefault.jpg)](https://youtu.be/CFJaCB_K5bo \"o que faz o Jupyter Notebook?\")    \n",
    "\n",
    "* Veja agora como utilizar o Jupyter Notebook  \n",
    "\n",
    "[![Jupyter Notebook](https://img.youtube.com/vi/dPb4acFiaYs/hqdefault.jpg)](https://youtu.be/dPb4acFiaYs?t=173 \"COMO UTILIZAR O JUPYTER NOTEBOOK?\")   \n",
    "\n",
    "\n",
    "- Ambiente 1: Álgebra Linear com Python: uma breve introdução. Adaptado de https://github.com/ronissonlucas  \n",
    "\n",
    "\n",
    "Clique no botão abaixo para executar este notebook no myBinder [![Binder](https://mybinder.org/badge_logo.svg)](https://mybinder.org/v2/gh/I2A2-Master-User/i2a2-fly/main?filepath=Algebra_Linear.ipynb)\n",
    "\n",
    "- Ambiente 2: Algebra Linear e NumPy. Adaptado de https://github.com/storopoli  \n",
    "\n",
    "Clique no botão abaixo para executar este notebook no myBinder [![Binder](https://mybinder.org/badge_logo.svg)](https://mybinder.org/v2/gh/storopoli/ciencia-de-dados/main?filepath=notebooks%2FAula_6_Numpy_Algebra_Linear.ipynb)\n",
    "\n",
    "- Ambiente 3: Linear Algebra with Python. Adaptado de https://github.com/datasciencescoop  \n",
    "\n",
    "Clique no botão abaixo para executar este notebook no myBinder [![Binder](https://mybinder.org/badge_logo.svg)](https://mybinder.org/v2/gh/datasciencescoop/Linear-Algebra/master?filepath=Linear%20Algebra.ipynb)"
   ]
  },
  {
   "cell_type": "markdown",
   "metadata": {},
   "source": [
    "# Quer saber mais?  \n",
    "\n",
    "Veja outros vídeos sobre PCA no portal [e-Aulas da USP](https://eaulas.usp.br/portal/video.action?idItem=9663)  \n",
    "\n",
    "[![ICMC](https://img.youtube.com/vi/rUxde40GDdw/hqdefault.jpg)](https://youtu.be/rUxde40GDdw \"ICMC\")  \n",
    "\n",
    "Assista ao **Essence of linear algebra** ...  \n",
    "\n",
    "[<img src=\"images/landscape_sddefault.png\">](https://www.youtube.com/playlist?list=PLZHQObOWTQDPD3MizzM2xVFitgF8hE_ab)  \n",
    "\n",
    "Assista a playlist [Álgebra Linear - Prof. Fernanda Simon](https://youtube.com/playlist?list=PLxI8Can9yAHdUtWDKtTA9AmuICNyX9EIr)  \n",
    "\n",
    "Assista a playlist [Geometria Analítica e Álgebra Linear](https://youtube.com/playlist?list=PLRkSiZvBNNy77c4QrtTJQ73wVgx9Ds0jq)   \n",
    "\n",
    "Faça o curso grátis **Eigenvectors and Eigenvalues** da [Udacity](https://www.udacity.com/course/eigenvectors-and-eigenvalues--ud104)  \n",
    "\n",
    "Explore o material do curso [Mathematical Tools for Data Science](https://cds.nyu.edu/math-tools/)  \n",
    "\n",
    "Explore a playlist **Math for Machine Learning**    \n",
    "\n",
    "[![Math for Machine Learning](https://img.youtube.com/vi/uZeDTwWcnuY/hqdefault.jpg)](https://www.youtube.com/watch?v=uZeDTwWcnuY&list=PLD80i8An1OEGZ2tYimemzwC3xqkU0jKUg \"Math for Machine Learning\")  \n",
    "\n",
    "Explore a playlist [Cálculo Numérico para todos](https://www.youtube.com/playlist?list=PLH9knZH6lcgrCjPt7ouHphjuYvuzBfa3U) do prof. [Anibal Azevedo](https://sites.google.com/view/projetoclculonumricoparatodos/in%C3%ADcio)  \n",
    "\n",
    "Explore a playlist [MIT A 2020 Vision of Linear Algebra, Spring 2020](https://www.youtube.com/watch?v=YrHlHbtiSM0&list=PLUl4u3cNGP61iQEFiWLE21EJCxwmWvvek) do prof. Gilbert Strang  \n",
    "\n",
    "Leia o artigo [Data Compression via Dimensionality Reduction: 3 Main Methods](https://www.kdnuggets.com/2020/12/data-compression-dimensionality-reduction.html)  \n",
    "\n",
    "[What is an Eigenvector?](https://youtu.be/ue3yoeZvt8E)  \n",
    "\n",
    "Explore a playlist [MAT3457 - Álgebra Linear 1](https://www.youtube.com/watch?v=-JcQJFNVjaA) do Prof. Dr. Claudio Possani, do IME-USP  \n",
    "\n",
    "# O Futuro do Trabalho: 10 habilidades que vão estar em alta até 2025\n",
    "\n",
    "Segundo o relatório [Future of Jobs: The top 10 skills to be developed by 2025](http://www3.weforum.org/docs/WEF_Future_of_Jobs_2020.pdf), do Fórum Econômico Mundial, **aprendizagem ativa e estratégias de aprendizado** é a 2ª principal habilidade que estará em alta até 2025.   \n",
    "\n",
    "## Aprendizagem ativa e estratégias de aprendizado\n",
    "\n",
    "* Pesquise no artigo [COMPETÊNCIAS RELEVANTES PARA O PROFISSIONAL DO FUTURO - COMPETÊNCIAS LISTADAS PELO RELATÓRIO “THE FUTURE OF JOB” DO FÓRUM ECONÔMICO MUNDIAL E A PREVISÃO DE FUTURO DE YUVAL HARARI](https://pt.scribd.com/document/565301777/artigo-semana-academica-daniele-rodrigues-v2-1-pdf) sobre **aprendizagem ativa e estratégias de aprendizado**.  \n",
    "\n",
    "* Pesquise sobre:\n",
    "\n",
    "    - Lifelong learning;\n",
    "    - Aprendizagem baseada em problemas (Problem Based Learning - PBL);\n",
    "    - Sala de aula invertida;\n",
    "    - Método do caso x Estudo de Caso.\n",
    "\n",
    "# Para saber mais\n",
    "Assista aos vídeos: \n",
    "\n",
    "* Mentalidade de Desenvolvimento Contínuo - Leandro Karnal - PUC-RS  \n",
    "\n",
    "[![Lifelong learning](https://img.youtube.com/vi/DbFleplwqho/hqdefault.jpg)](https://youtu.be/DbFleplwqho \"Lifelong learning PUC-RS\")   \n",
    "\n",
    "* Eu sou um presentista | Conrado Schlochauer | TEDxPinheiros  \n",
    "\n",
    "[![Lifelong learning](https://img.youtube.com/vi/_wfpqGBTad8/hqdefault.jpg)](https://youtu.be/_wfpqGBTad8 \"Lifelong learning Conrado Schlochauer \") \n",
    "\n",
    "* Aprendizagem Baseada em Problemas - USP-Lest  \n",
    "\n",
    "[![PBL USP-Lest](https://img.youtube.com/vi/YhB44GtyNhI/hqdefault.jpg)](https://youtu.be/YhB44GtyNhI \"PBL USP-Lest\")   \n",
    "\n",
    "* Neuroplasticidade com a Doutora Lara Boyd  \n",
    "\n",
    "[![PBL USP-Lest](https://img.youtube.com/vi/7BQtaFQqDTg/hqdefault.jpg)](https://youtu.be/7BQtaFQqDTg \"Neuroplasticidade\")\n",
    "\n",
    "* Leia a série de artigos [Mathematics for Deep Learning](https://medium.com/@hevansviniciuspereira/mathematics-for-deep-learning-part-1-738baced16b0)  \n",
    "\n",
    "# Gosta de livros?   \n",
    "\n",
    "[Introduction to Applied Linear Algebra – Vectors, Matrices, and Least Squares - Stephen Boyd and Lieven Vandenberghe](https://web.stanford.edu/~boyd/vmls/)  \n",
    "\n",
    "[Encyclopedia of Distances - Michel Marie Deza e Elena Deza](https://mineracaodedados.files.wordpress.com/2012/06/encyclopedia-of-distances-michel-marie-deza-elena-deza.pdf)  \n",
    "\n",
    "[Cap. 18 - Mathematics for Deep Learning](https://d2l.ai/chapter_appendix-mathematics-for-deep-learning/index.html) do livro [Dive into Deep Learning](https://d2l.ai/index.html)  "
   ]
  },
  {
   "cell_type": "markdown",
   "metadata": {},
   "source": [
    "<hr>\n",
    "Qualquer dúvida, poste no fórum do curso.  \n",
    "\n",
    "Créditos: [Vagner Sanches Vasconcelos](https://www.linkedin.com/in/vsvasconcelos/)"
   ]
  },
  {
   "cell_type": "markdown",
   "metadata": {},
   "source": [
    "<hr>  \n",
    "\n",
    "# Primeiro Desafio\n",
    "\n",
    "<center><img src=\"./images/Desafio.png\", height=\"500\"></center>\n",
    "\n",
    "## O que precisa ser feito?  \n",
    "\n",
    "Escolha um dos desafios:  \n",
    "\n",
    "Desafio 1: Identificar o equipamento defeituoso.  \n",
    "\n",
    "Desafio 2: Transformar um texto em matriz.  \n",
    "\n",
    "<hr>\n",
    "\n",
    "## Explicação do Desafio 1\n",
    "\n",
    "Em uma indústria, 10 equipamentos possuem 17 sensores cada. Os sensores são os mesmos para todos os equipamentos.   \n",
    "Foram coletadas informações destes sensores, gerando a tabela a seguir:\n",
    "\n",
    "| **Sensor** | Obj01 | Obj02 | Obj03 | Obj04 | Obj05 | Obj06 | Obj07 | Obj08 | Obj09 | Obj10 |\n",
    "|-----|-------:|-------:|-------:|-------:|-------:|-------:|-------:|-------:|-------:|-------:|\n",
    "|**1**|375|135|458|475|509|336|492|469|379|343|\n",
    "|**2**|57|47|53|73|63|62|58|63|58|63|\n",
    "|**3**|245|267|242|227|271|219|286|268|247|223|\n",
    "|**4**|1472|1494|1462|1582|1613|1323|1493|1490|1487|1349|\n",
    "|**5**|105|66|103|103|118|98|118|101|106|100|\n",
    "|**6**|54|41|62|64|55|59|59|63|55|60|\n",
    "|**7**|193|209|184|235|207|172|156|223|195|175|\n",
    "|**8**|147|93|122|160|139|130|101|152|148|133|\n",
    "|**9**|1102|674|957|1137|1058|990|878|1098|1113|1010|\n",
    "|**10**|720|1033|566|874|628|646|320|706|727|659|\n",
    "|**11**|253|143|171|265|193|226|99|247|256|231|\n",
    "|**12**|685|586|750|803|830|615|777|699|692|627|\n",
    "|**13**|488|355|418|570|465|437|313|467|493|446|\n",
    "|**14**|198|187|220|203|247|176|204|209|200|180|\n",
    "|**15**|360|334|337|365|376|322|348|363|364|328|\n",
    "|**16**|1374|1506|1572|1256|1734|1235|1684|1597|1388|1260|\n",
    "|**17**|156|139|147|175|167|138|170|164|158|141|\n",
    "\n",
    "Sabemos que um dos equipamentos está apresentado um comportamento anômalo.  \n",
    "A sua missão é descobrir **qual equipamento** é este.  \n",
    "\n",
    "Para isto, você pode usar qualquer recurso à sua disposição (excel, python, matlab, papel e caneta, etc.).  \n",
    "\n",
    "Caso você queira, poderá baixar o arquivo Excel contendo os dados neste link: [Defective Equipment (rev 2025-03)](./data/Defective_Equipment_(rev_2025-03).xlsx).\n",
    "\n",
    "Envie um e-mail para **challenges@i2a2.academy** com o assunto **\"I2A2-Pará - Desafio 1\"**.\n",
    "\n",
    "No e-mail informe qual foi o equipamento identificado e explique como você chegou a esta conclusão.\n",
    "\n",
    "Anexe no e-mail: arquivos, programas fonte, links e qualquer outra informação relevante.  \n",
    "\n",
    "Não se esqueça de informar seu nome e o e-mail que você utilizou em sua inscrição. Esta será a referência para identificarmos a sua entrega.  \n",
    "\n",
    "<hr>\n",
    "\n",
    "## Explicação do Desafio 2\n",
    "\n",
    "Escolha um dos textos a seguir:\n",
    "\n",
    "[Texto I](./data/Base_Text_I.txt) ou  \n",
    "[Texto II](./data/Base_Text_II.txt)  \n",
    "\n",
    "A sua missão é criar algum método para representar o texto escolhido como uma matriz.  \n",
    "Você pode usar qualquer método e recurso à sua disposição (excel, python, matlab, papel e caneta, etc.).  \n",
    "\n",
    "Adicionalmente, você deve utilizar pelo menos duas redes generativas (ChatGPT, Gemini, Claude, etc.) para analisar, traduzir e resumir o texto escolhido.\n",
    "\n",
    "Crie um relatório com o resultado apresentado pelas LLMs, contendo:\n",
    "\n",
    "a) O que deu certo?  \n",
    "b) O que não deu certo?  \n",
    "c) A tradução fez sentido?  \n",
    "d) E o resumo?  \n",
    "e) Quem foi o autor do texto?  \n",
    "\n",
    "O seu relatório deverá ser enviado por e-mail em formato pdf para **challenges@i2a2.academy** com o assunto **\"I2A2-Pará - Desafio 1\"**. \n",
    "\n",
    "Não se esqueça de informar seu nome e o e-mail que você utilizou em sua inscrição. Esta será a referência para identificarmos a sua entrega.  \n",
    "\n",
    "<hr>\n",
    "\n",
    "## Regras do Jogo:\n",
    "\n",
    "A entrega é obrigatória e eliminatória.  \n",
    "\n",
    "O limite para entrega é **27/05/2025 às 23h59 BRT**.  \n",
    "\n",
    "Entregas após este limite serão descartadas, a menos que sejam acompanhadas de sua foto na UTI de um hospital.  \n",
    "\n",
    "A ausência de entrega será considerada uma desistência explícita e irrevogável.  \n",
    "\n",
    "Até breve!\n",
    "\n",
    "<hr>"
   ]
  }
 ],
 "metadata": {
  "kernelspec": {
   "display_name": "Python 3",
   "language": "python",
   "name": "python3"
  },
  "language_info": {
   "codemirror_mode": {
    "name": "ipython",
    "version": 3
   },
   "file_extension": ".py",
   "mimetype": "text/x-python",
   "name": "python",
   "nbconvert_exporter": "python",
   "pygments_lexer": "ipython3",
   "version": "3.8.10"
  },
  "rise": {
   "autolaunch": true,
   "enable_chalkboard": true,
   "progress": true,
   "scroll": true,
   "slideNumber": true
  }
 },
 "nbformat": 4,
 "nbformat_minor": 4
}
